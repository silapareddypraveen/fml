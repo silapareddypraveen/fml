{
  "nbformat": 4,
  "nbformat_minor": 0,
  "metadata": {
    "colab": {
      "provenance": [],
      "authorship_tag": "ABX9TyNwUL5ooOKn8pldsj3vZfYz",
      "include_colab_link": true
    },
    "kernelspec": {
      "name": "python3",
      "display_name": "Python 3"
    },
    "language_info": {
      "name": "python"
    }
  },
  "cells": [
    {
      "cell_type": "markdown",
      "metadata": {
        "id": "view-in-github",
        "colab_type": "text"
      },
      "source": [
        "<a href=\"https://colab.research.google.com/github/silapareddypraveen/fml/blob/main/Reuters.ipynb\" target=\"_parent\"><img src=\"https://colab.research.google.com/assets/colab-badge.svg\" alt=\"Open In Colab\"/></a>"
      ]
    },
    {
      "cell_type": "code",
      "execution_count": 8,
      "metadata": {
        "colab": {
          "base_uri": "https://localhost:8080/"
        },
        "id": "L2IFhEEAU3pr",
        "outputId": "ad2cfca1-0d4e-4580-ad04-18c92dcec065"
      },
      "outputs": [
        {
          "output_type": "stream",
          "name": "stderr",
          "text": [
            "[nltk_data] Downloading package reuters to /root/nltk_data...\n",
            "[nltk_data]   Package reuters is already up-to-date!\n",
            "[nltk_data] Downloading package punkt to /root/nltk_data...\n",
            "[nltk_data]   Unzipping tokenizers/punkt.zip.\n"
          ]
        },
        {
          "output_type": "execute_result",
          "data": {
            "text/plain": [
              "True"
            ]
          },
          "metadata": {},
          "execution_count": 8
        }
      ],
      "source": [
        "import nltk\n",
        "nltk.download('reuters')\n",
        "nltk.download('punkt')"
      ]
    },
    {
      "cell_type": "code",
      "source": [
        "from nltk.corpus import reuters\n",
        "from nltk import bigrams, trigrams\n",
        "from collections import Counter, defaultdict"
      ],
      "metadata": {
        "id": "6L4CZfx4VYhk"
      },
      "execution_count": 17,
      "outputs": []
    },
    {
      "cell_type": "code",
      "source": [
        "model = defaultdict(lambda: defaultdict(lambda: 0))\n"
      ],
      "metadata": {
        "id": "8INi_j3cVls4"
      },
      "execution_count": 10,
      "outputs": []
    },
    {
      "cell_type": "code",
      "source": [
        "for sentence in reuters.sents():\n",
        "    for w1, w2, w3 in trigrams(sentence, pad_right=True, pad_left=True):\n",
        "        model[(w1, w2)][w3] += 1\n",
        "\"the\","
      ],
      "metadata": {
        "id": "fp-7mWSTVsCQ"
      },
      "execution_count": 11,
      "outputs": []
    },
    {
      "cell_type": "code",
      "source": [
        "for w1_w2 in model:\n",
        "    total_count = float(sum(model[w1_w2].values()))\n",
        "    for w3 in model[w1_w2]:\n",
        "        model[w1_w2][w3] /= total_count"
      ],
      "metadata": {
        "id": "PPvkkijlXdP4"
      },
      "execution_count": 12,
      "outputs": []
    },
    {
      "cell_type": "code",
      "source": [
        "dict(model[\"today\",\"the\"])"
      ],
      "metadata": {
        "colab": {
          "base_uri": "https://localhost:8080/"
        },
        "id": "ZZ9F4IXrXj0e",
        "outputId": "1b17ab26-73f2-4de2-aef2-fd51ec59f31b"
      },
      "execution_count": 13,
      "outputs": [
        {
          "output_type": "execute_result",
          "data": {
            "text/plain": [
              "{'public': 0.05555555555555555,\n",
              " 'European': 0.05555555555555555,\n",
              " 'Bank': 0.05555555555555555,\n",
              " 'price': 0.1111111111111111,\n",
              " 'emirate': 0.05555555555555555,\n",
              " 'overseas': 0.05555555555555555,\n",
              " 'newspaper': 0.05555555555555555,\n",
              " 'company': 0.16666666666666666,\n",
              " 'Turkish': 0.05555555555555555,\n",
              " 'increase': 0.05555555555555555,\n",
              " 'options': 0.05555555555555555,\n",
              " 'Higher': 0.05555555555555555,\n",
              " 'pound': 0.05555555555555555,\n",
              " 'Italian': 0.05555555555555555,\n",
              " 'time': 0.05555555555555555}"
            ]
          },
          "metadata": {},
          "execution_count": 13
        }
      ]
    },
    {
      "cell_type": "code",
      "source": [
        "dict(model[\"price\",\"is\"])"
      ],
      "metadata": {
        "colab": {
          "base_uri": "https://localhost:8080/"
        },
        "id": "_ixHhXseX8EH",
        "outputId": "bcb916ba-587a-46ff-95fd-1d03f4c527ff"
      },
      "execution_count": 20,
      "outputs": [
        {
          "output_type": "execute_result",
          "data": {
            "text/plain": [
              "{'pre': 0.023255813953488372,\n",
              " 'subject': 0.06976744186046512,\n",
              " 'quoted': 0.023255813953488372,\n",
              " 'weighted': 0.023255813953488372,\n",
              " 'payable': 0.023255813953488372,\n",
              " 'at': 0.046511627906976744,\n",
              " 'above': 0.023255813953488372,\n",
              " 'about': 0.06976744186046512,\n",
              " 'suject': 0.023255813953488372,\n",
              " 'approximately': 0.023255813953488372,\n",
              " 'similar': 0.023255813953488372,\n",
              " 'fair': 0.023255813953488372,\n",
              " '18': 0.023255813953488372,\n",
              " '19': 0.023255813953488372,\n",
              " 'reduced': 0.023255813953488372,\n",
              " 'usually': 0.023255813953488372,\n",
              " '50': 0.023255813953488372,\n",
              " 'too': 0.023255813953488372,\n",
              " 'very': 0.023255813953488372,\n",
              " 'to': 0.023255813953488372,\n",
              " 'now': 0.046511627906976744,\n",
              " 'calculated': 0.023255813953488372,\n",
              " 'relatively': 0.023255813953488372,\n",
              " 'in': 0.023255813953488372,\n",
              " 'likely': 0.023255813953488372,\n",
              " 'based': 0.046511627906976744,\n",
              " 'not': 0.023255813953488372,\n",
              " 'lower': 0.023255813953488372,\n",
              " 'around': 0.023255813953488372,\n",
              " 'revised': 0.046511627906976744,\n",
              " 'then': 0.023255813953488372,\n",
              " 'paid': 0.023255813953488372,\n",
              " '12': 0.023255813953488372,\n",
              " 'unlikely': 0.046511627906976744}"
            ]
          },
          "metadata": {},
          "execution_count": 20
        }
      ]
    },
    {
      "cell_type": "code",
      "source": [],
      "metadata": {
        "colab": {
          "base_uri": "https://localhost:8080/",
          "height": 141
        },
        "id": "T3y58NbwX9ZF",
        "outputId": "e195ae70-309f-4706-aa2d-0d2ce6209b0e"
      },
      "execution_count": 2,
      "outputs": [
        {
          "output_type": "error",
          "ename": "NameError",
          "evalue": "name 'model' is not defined",
          "traceback": [
            "\u001b[0;31m---------------------------------------------------------------------------\u001b[0m",
            "\u001b[0;31mNameError\u001b[0m                                 Traceback (most recent call last)",
            "\u001b[0;32m<ipython-input-2-661d9a8cf816>\u001b[0m in \u001b[0;36m<cell line: 1>\u001b[0;34m()\u001b[0m\n\u001b[0;32m----> 1\u001b[0;31m \u001b[0mdict\u001b[0m\u001b[0;34m(\u001b[0m\u001b[0mmodel\u001b[0m\u001b[0;34m[\u001b[0m\u001b[0;34m\"the\"\u001b[0m\u001b[0;34m,\u001b[0m\u001b[0;34m\"market\"\u001b[0m\u001b[0;34m]\u001b[0m\u001b[0;34m)\u001b[0m\u001b[0;34m\u001b[0m\u001b[0;34m\u001b[0m\u001b[0m\n\u001b[0m",
            "\u001b[0;31mNameError\u001b[0m: name 'model' is not defined"
          ]
        }
      ]
    },
    {
      "cell_type": "code",
      "source": [],
      "metadata": {
        "id": "HBabp_tHYaO6"
      },
      "execution_count": null,
      "outputs": []
    }
  ]
}