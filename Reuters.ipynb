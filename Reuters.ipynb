{
  "nbformat": 4,
  "nbformat_minor": 0,
  "metadata": {
    "colab": {
      "provenance": [],
      "authorship_tag": "ABX9TyOdk5P/OzqUipaz2OjWWnFh",
      "include_colab_link": true
    },
    "kernelspec": {
      "name": "python3",
      "display_name": "Python 3"
    },
    "language_info": {
      "name": "python"
    }
  },
  "cells": [
    {
      "cell_type": "markdown",
      "metadata": {
        "id": "view-in-github",
        "colab_type": "text"
      },
      "source": [
        "<a href=\"https://colab.research.google.com/github/silapareddypraveen/fml/blob/main/Reuters.ipynb\" target=\"_parent\"><img src=\"https://colab.research.google.com/assets/colab-badge.svg\" alt=\"Open In Colab\"/></a>"
      ]
    },
    {
      "cell_type": "code",
      "execution_count": 1,
      "metadata": {
        "colab": {
          "base_uri": "https://localhost:8080/"
        },
        "id": "L2IFhEEAU3pr",
        "outputId": "fbd4345c-2ea7-4e6b-d480-418e96ed00c9"
      },
      "outputs": [
        {
          "output_type": "stream",
          "name": "stderr",
          "text": [
            "[nltk_data] Downloading package reuters to /root/nltk_data...\n",
            "[nltk_data] Downloading package punkt to /root/nltk_data...\n",
            "[nltk_data]   Unzipping tokenizers/punkt.zip.\n"
          ]
        },
        {
          "output_type": "execute_result",
          "data": {
            "text/plain": [
              "True"
            ]
          },
          "metadata": {},
          "execution_count": 1
        }
      ],
      "source": [
        "import nltk\n",
        "nltk.download('reuters')\n",
        "nltk.download('punkt')"
      ]
    },
    {
      "cell_type": "code",
      "source": [
        "from nltk.corpus import reuters\n",
        "from nltk import bigrams, trigrams\n",
        "from collections import Counter, defaultdict"
      ],
      "metadata": {
        "id": "6L4CZfx4VYhk"
      },
      "execution_count": 2,
      "outputs": []
    },
    {
      "cell_type": "code",
      "source": [
        "model = defaultdict(lambda: defaultdict(lambda: 0))\n"
      ],
      "metadata": {
        "id": "8INi_j3cVls4"
      },
      "execution_count": 3,
      "outputs": []
    },
    {
      "cell_type": "code",
      "source": [
        "for sentence in reuters.sents():\n",
        "    for w1, w2, w3 in trigrams(sentence, pad_right=True, pad_left=True):\n",
        "        model[(w1, w2)][w3] += 1\n",
        "\"the\","
      ],
      "metadata": {
        "colab": {
          "base_uri": "https://localhost:8080/"
        },
        "id": "fp-7mWSTVsCQ",
        "outputId": "187b9a8a-09a5-4c1c-b551-57de5426cbbd"
      },
      "execution_count": 4,
      "outputs": [
        {
          "output_type": "execute_result",
          "data": {
            "text/plain": [
              "('the',)"
            ]
          },
          "metadata": {},
          "execution_count": 4
        }
      ]
    },
    {
      "cell_type": "code",
      "source": [
        "for w1_w2 in model:\n",
        "    total_count = float(sum(model[w1_w2].values()))\n",
        "    for w3 in model[w1_w2]:\n",
        "        model[w1_w2][w3] /= total_count"
      ],
      "metadata": {
        "id": "PPvkkijlXdP4"
      },
      "execution_count": 5,
      "outputs": []
    },
    {
      "cell_type": "code",
      "source": [
        "dict(model[\"today\",\"the\"])"
      ],
      "metadata": {
        "colab": {
          "base_uri": "https://localhost:8080/"
        },
        "id": "ZZ9F4IXrXj0e",
        "outputId": "9ef65344-5ae7-4d91-fa66-dab8edd36f70"
      },
      "execution_count": 6,
      "outputs": [
        {
          "output_type": "execute_result",
          "data": {
            "text/plain": [
              "{'public': 0.05555555555555555,\n",
              " 'European': 0.05555555555555555,\n",
              " 'Bank': 0.05555555555555555,\n",
              " 'price': 0.1111111111111111,\n",
              " 'emirate': 0.05555555555555555,\n",
              " 'overseas': 0.05555555555555555,\n",
              " 'newspaper': 0.05555555555555555,\n",
              " 'company': 0.16666666666666666,\n",
              " 'Turkish': 0.05555555555555555,\n",
              " 'increase': 0.05555555555555555,\n",
              " 'options': 0.05555555555555555,\n",
              " 'Higher': 0.05555555555555555,\n",
              " 'pound': 0.05555555555555555,\n",
              " 'Italian': 0.05555555555555555,\n",
              " 'time': 0.05555555555555555}"
            ]
          },
          "metadata": {},
          "execution_count": 6
        }
      ]
    },
    {
      "cell_type": "code",
      "source": [
        "dict(model[\"price\",\"is\"])"
      ],
      "metadata": {
        "colab": {
          "base_uri": "https://localhost:8080/"
        },
        "id": "_ixHhXseX8EH",
        "outputId": "f2e1e5db-e00c-462e-927a-4ff74d476c47"
      },
      "execution_count": 7,
      "outputs": [
        {
          "output_type": "execute_result",
          "data": {
            "text/plain": [
              "{'pre': 0.023255813953488372,\n",
              " 'subject': 0.06976744186046512,\n",
              " 'quoted': 0.023255813953488372,\n",
              " 'weighted': 0.023255813953488372,\n",
              " 'payable': 0.023255813953488372,\n",
              " 'at': 0.046511627906976744,\n",
              " 'above': 0.023255813953488372,\n",
              " 'about': 0.06976744186046512,\n",
              " 'suject': 0.023255813953488372,\n",
              " 'approximately': 0.023255813953488372,\n",
              " 'similar': 0.023255813953488372,\n",
              " 'fair': 0.023255813953488372,\n",
              " '18': 0.023255813953488372,\n",
              " '19': 0.023255813953488372,\n",
              " 'reduced': 0.023255813953488372,\n",
              " 'usually': 0.023255813953488372,\n",
              " '50': 0.023255813953488372,\n",
              " 'too': 0.023255813953488372,\n",
              " 'very': 0.023255813953488372,\n",
              " 'to': 0.023255813953488372,\n",
              " 'now': 0.046511627906976744,\n",
              " 'calculated': 0.023255813953488372,\n",
              " 'relatively': 0.023255813953488372,\n",
              " 'in': 0.023255813953488372,\n",
              " 'likely': 0.023255813953488372,\n",
              " 'based': 0.046511627906976744,\n",
              " 'not': 0.023255813953488372,\n",
              " 'lower': 0.023255813953488372,\n",
              " 'around': 0.023255813953488372,\n",
              " 'revised': 0.046511627906976744,\n",
              " 'then': 0.023255813953488372,\n",
              " 'paid': 0.023255813953488372,\n",
              " '12': 0.023255813953488372,\n",
              " 'unlikely': 0.046511627906976744}"
            ]
          },
          "metadata": {},
          "execution_count": 7
        }
      ]
    },
    {
      "cell_type": "code",
      "source": [
        "dict(model[\"price\",\"is\"])"
      ],
      "metadata": {
        "colab": {
          "base_uri": "https://localhost:8080/"
        },
        "id": "T3y58NbwX9ZF",
        "outputId": "647d95ac-229a-4126-914c-2d1980891e20"
      },
      "execution_count": 8,
      "outputs": [
        {
          "output_type": "execute_result",
          "data": {
            "text/plain": [
              "{'pre': 0.023255813953488372,\n",
              " 'subject': 0.06976744186046512,\n",
              " 'quoted': 0.023255813953488372,\n",
              " 'weighted': 0.023255813953488372,\n",
              " 'payable': 0.023255813953488372,\n",
              " 'at': 0.046511627906976744,\n",
              " 'above': 0.023255813953488372,\n",
              " 'about': 0.06976744186046512,\n",
              " 'suject': 0.023255813953488372,\n",
              " 'approximately': 0.023255813953488372,\n",
              " 'similar': 0.023255813953488372,\n",
              " 'fair': 0.023255813953488372,\n",
              " '18': 0.023255813953488372,\n",
              " '19': 0.023255813953488372,\n",
              " 'reduced': 0.023255813953488372,\n",
              " 'usually': 0.023255813953488372,\n",
              " '50': 0.023255813953488372,\n",
              " 'too': 0.023255813953488372,\n",
              " 'very': 0.023255813953488372,\n",
              " 'to': 0.023255813953488372,\n",
              " 'now': 0.046511627906976744,\n",
              " 'calculated': 0.023255813953488372,\n",
              " 'relatively': 0.023255813953488372,\n",
              " 'in': 0.023255813953488372,\n",
              " 'likely': 0.023255813953488372,\n",
              " 'based': 0.046511627906976744,\n",
              " 'not': 0.023255813953488372,\n",
              " 'lower': 0.023255813953488372,\n",
              " 'around': 0.023255813953488372,\n",
              " 'revised': 0.046511627906976744,\n",
              " 'then': 0.023255813953488372,\n",
              " 'paid': 0.023255813953488372,\n",
              " '12': 0.023255813953488372,\n",
              " 'unlikely': 0.046511627906976744}"
            ]
          },
          "metadata": {},
          "execution_count": 8
        }
      ]
    },
    {
      "cell_type": "code",
      "source": [],
      "metadata": {
        "id": "HBabp_tHYaO6"
      },
      "execution_count": 8,
      "outputs": []
    }
  ]
}